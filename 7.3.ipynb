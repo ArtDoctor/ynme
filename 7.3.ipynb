{
 "cells": [
  {
   "cell_type": "markdown",
   "id": "412290d4",
   "metadata": {},
   "source": [
    "## 7.3 Multidimensional integrals\n",
    "\n",
    "Explain the ways how to use or generalise the one-dimensional approaches for computing multidi-mensional integrals. The script integrals_2D.m implements some possibilities. Explain the used procedures.\n",
    "\n",
    "(*) There are various implementation of the same methods. You can profile the code and explain some weak performance issues of Matlab (Python in our case) according to the results"
   ]
  },
  {
   "cell_type": "code",
   "execution_count": 26,
   "id": "402e198a",
   "metadata": {},
   "outputs": [],
   "source": [
    "import numpy as np\n",
    "from typing import Callable\n",
    "import time"
   ]
  },
  {
   "cell_type": "code",
   "execution_count": 27,
   "id": "262c8137",
   "metadata": {},
   "outputs": [
    {
     "data": {
      "text/plain": [
       "np.float64(0.0)"
      ]
     },
     "execution_count": 27,
     "metadata": {},
     "output_type": "execute_result"
    }
   ],
   "source": [
    "# Example function to integrate\n",
    "def f(x: np.ndarray, y: np.ndarray) -> np.ndarray:\n",
    "    return np.abs(np.sin(np.pi ** 2 * ((x - 0.5) ** 2 + (y - 0.5) ** 2)))\n",
    "\n",
    "f(0.5, 0.5)  # Example call to the function"
   ]
  },
  {
   "cell_type": "code",
   "execution_count": 28,
   "id": "286f33da",
   "metadata": {},
   "outputs": [],
   "source": [
    "def compute_2d_integral(\n",
    "    f: Callable[[np.ndarray, np.ndarray], np.ndarray],\n",
    "    xlim: tuple[float, float],\n",
    "    ylim: tuple[float, float],\n",
    "    h: float,\n",
    "    method: str\n",
    ") -> tuple[float, float]:\n",
    "    xmin, xmax = xlim\n",
    "    ymin, ymax = ylim\n",
    "\n",
    "    if method == '2D_midpoint_matrix2':\n",
    "        xgrid, ygrid = np.meshgrid(np.arange(xmin + h / 2, xmax, h),\n",
    "                                   np.arange(ymin + h / 2, ymax, h))\n",
    "        tic = time.time()\n",
    "        fvals = f(xgrid, ygrid)\n",
    "        integral = np.sum(fvals) * h ** 2\n",
    "        toc = time.time()\n",
    "\n",
    "    elif method == '2D_midpoint_loop2':\n",
    "        xgrid = np.arange(xmin + h / 2, xmax, h)\n",
    "        ygrid = np.arange(ymin + h / 2, ymax, h)\n",
    "        tic = time.time()\n",
    "        integral = 0.0\n",
    "        for i in range(len(xgrid)):\n",
    "            for j in range(len(ygrid)):\n",
    "                integral += f(xgrid[i], ygrid[j])\n",
    "        integral *= h ** 2\n",
    "        toc = time.time()\n",
    "\n",
    "    elif method == '1D_x+y_rectangle_loop3':\n",
    "        xgrid = np.arange(xmin, xmax + h, h)\n",
    "        ygrid = np.arange(ymin, ymax + h, h)\n",
    "        tic = time.time()\n",
    "        integral = 0.0\n",
    "        firstrun = True\n",
    "        for k1 in range(len(xgrid)):\n",
    "            integral_y2 = 0.5 * f(xgrid[k1], ygrid[0])\n",
    "            for k2 in range(1, len(ygrid) - 1):\n",
    "                integral_y2 += f(xgrid[k1], ygrid[k2])\n",
    "            integral_y2 += 0.5 * f(xgrid[k1], ygrid[-1])\n",
    "            if not firstrun:\n",
    "                integral += 0.5 * (integral_y1 + integral_y2)\n",
    "            integral_y1 = integral_y2\n",
    "            firstrun = False\n",
    "        integral *= h ** 2\n",
    "        toc = time.time()\n",
    "\n",
    "    else:\n",
    "        raise ValueError(\"Unknown method\")\n",
    "\n",
    "    return integral, toc - tic"
   ]
  },
  {
   "cell_type": "code",
   "execution_count": 29,
   "id": "e451b9e5",
   "metadata": {},
   "outputs": [
    {
     "name": "stdout",
     "output_type": "stream",
     "text": [
      "Exact integral: 0.6551724745\n",
      "\n",
      "Method: 2D_midpoint_matrix2\n",
      "Time: 0.0007 s; Precision: 6.276570e-05; Value: 0.6552135969\n",
      "\n",
      "Method: 2D_midpoint_loop2\n",
      "Time: 0.0128 s; Precision: 6.276570e-05; Value: 0.6552135969\n",
      "\n",
      "Method: 1D_x+y_rectangle_loop3\n",
      "Time: 0.0123 s; Precision: 7.956738e-05; Value: 0.6551203442\n",
      "\n"
     ]
    }
   ],
   "source": [
    "exact = 0.6551724745288948\n",
    "h = 0.01\n",
    "xmin = 0.0\n",
    "xmax = 1.0\n",
    "ymin = 0.0\n",
    "ymax = 1.0\n",
    "\n",
    "methods = [\n",
    "    '2D_midpoint_matrix2',\n",
    "    '2D_midpoint_loop2',\n",
    "    '1D_x+y_rectangle_loop3'\n",
    "]\n",
    "print(f\"Exact integral: {exact:.10f}\\n\")\n",
    "\n",
    "# Loop over methods\n",
    "for method in methods:\n",
    "    print(f\"Method: {method}\")\n",
    "    result, duration = compute_2d_integral(f, [xmin, xmax], [ymin, ymax], h, method)\n",
    "    precision = abs(result - exact) / abs(exact)\n",
    "    print(f\"Time: {duration:.4f} s; Precision: {precision:.6e}; Value: {result:.10f}\\n\")"
   ]
  },
  {
   "cell_type": "markdown",
   "id": "20e14e6e",
   "metadata": {},
   "source": [
    "# 2D Numerical Integration Results – Explanation\n",
    "\n",
    "We evaluated a 2D integral over the unit square `[0,1] × [0,1]` for the function above.\n",
    "\n",
    "We tested three numerical integration methods using a step size `h = 0.01`:\n",
    "\n",
    "1. `2D_midpoint_matrix2`\n",
    "\n",
    "- **Type**: Midpoint rule (vectorized)\n",
    "- **Description**: Uses midpoint sampling and full matrix evaluation with `meshgrid`.\n",
    "- **Performance**: Fastest due to full vectorization.\n",
    "- **Time**: ~0.0006 seconds\n",
    "- **Precision**: ~6.28e-5 (very accurate)\n",
    "\n",
    "**Use case**: Best for performance when memory usage is acceptable.\n",
    "\n",
    "2. `2D_midpoint_loop2`\n",
    "\n",
    "- **Type**: Midpoint rule (with nested loops)\n",
    "- **Description**: Loops through midpoint samples manually.\n",
    "- **Performance**: Much slower due to explicit iteration.\n",
    "- **Time**: ~0.0447 seconds\n",
    "- **Precision**: Same as vectorized version (as expected)\n",
    "\n",
    "**Use case**: Educational or low-memory environments; otherwise inefficient.\n",
    "**Note**: After my experiments, I found out that using h smaller than 0.00001, the matrix is taking too much memory and may cause an overflow.\n",
    "\n",
    "\n",
    "3. `1D_x+y_rectangle_loop3`\n",
    "\n",
    "- **Type**: Rectangle rule (optimized loop version)\n",
    "- **Description**: Applies 1D rectangle rule in `y` then integrates across `x`, minimizing redundant calls.\n",
    "- **Performance**: Slower than vectorized midpoint but faster than naive loops.\n",
    "- **Time**: ~0.0414 seconds\n",
    "- **Precision**: ~7.96e-5 (slightly less accurate than midpoint)\n",
    "\n",
    "**Use case**: When midpoint rule isn't available or rectangle logic is preferred."
   ]
  }
 ],
 "metadata": {
  "kernelspec": {
   "display_name": "venv",
   "language": "python",
   "name": "python3"
  },
  "language_info": {
   "codemirror_mode": {
    "name": "ipython",
    "version": 3
   },
   "file_extension": ".py",
   "mimetype": "text/x-python",
   "name": "python",
   "nbconvert_exporter": "python",
   "pygments_lexer": "ipython3",
   "version": "3.12.3"
  }
 },
 "nbformat": 4,
 "nbformat_minor": 5
}
