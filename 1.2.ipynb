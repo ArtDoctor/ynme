{
 "cells": [
  {
   "cell_type": "code",
   "execution_count": 30,
   "id": "55f964eb",
   "metadata": {},
   "outputs": [],
   "source": [
    "# Libraries\n",
    "import math\n",
    "import cmath\n",
    "import matplotlib.pyplot as plt"
   ]
  },
  {
   "cell_type": "markdown",
   "id": "ecbeaec8",
   "metadata": {},
   "source": [
    "## 1.2 Computer precision\n",
    "\n",
    "#### Task 1\n",
    "As explained in the lectures, mathematical operations does not satisfy exactly some of their\n",
    "natural properties as commutativity, distributivity and associativity. A usual situation when\n",
    "we could reach a threshold of precision is once we’d like to sum or multiply large and small\n",
    "numbers together. Another critical error is once we are of the range that can be sufficiently\n",
    "represented by a computer. What are possible cases?"
   ]
  },
  {
   "cell_type": "markdown",
   "id": "95186e9e",
   "metadata": {},
   "source": [
    "Answer - example cases:\n",
    "\n",
    "1. Loss of significance - subtracting two nearly equal numbers:"
   ]
  },
  {
   "cell_type": "code",
   "execution_count": 31,
   "id": "a3a76944",
   "metadata": {},
   "outputs": [
    {
     "name": "stdout",
     "output_type": "stream",
     "text": [
      "1.0000000000001\n"
     ]
    }
   ],
   "source": [
    "a = 1.0000000000001\n",
    "print(a)"
   ]
  },
  {
   "cell_type": "code",
   "execution_count": 32,
   "id": "08631ad4",
   "metadata": {},
   "outputs": [
    {
     "name": "stdout",
     "output_type": "stream",
     "text": [
      "9.992007221626409e-14\n",
      "False\n"
     ]
    }
   ],
   "source": [
    "a = a - 1.0\n",
    "print(a)\n",
    "print(a == 0.0)"
   ]
  },
  {
   "cell_type": "markdown",
   "id": "6f39851e",
   "metadata": {},
   "source": [
    "we can see that answer isn't equal to exactly 0.0000000000001, but instead to 00000000000009992007...\n",
    "\n",
    "The error is around 0.1%, which is pretty significnt. If storing the value 0.0000000000001 directly, it is stored correctly:"
   ]
  },
  {
   "cell_type": "code",
   "execution_count": 33,
   "id": "41310677",
   "metadata": {},
   "outputs": [
    {
     "name": "stdout",
     "output_type": "stream",
     "text": [
      "1e-13\n"
     ]
    }
   ],
   "source": [
    "a = 0.0000000000001\n",
    "print(a)"
   ]
  },
  {
   "cell_type": "markdown",
   "id": "5ebaf9e0",
   "metadata": {},
   "source": [
    "2.  Floating-point rounding errors:"
   ]
  },
  {
   "cell_type": "code",
   "execution_count": 34,
   "id": "8c80dc22",
   "metadata": {},
   "outputs": [
    {
     "name": "stdout",
     "output_type": "stream",
     "text": [
      "0.30000000000000004\n",
      "False\n"
     ]
    }
   ],
   "source": [
    "a = 0.1 + 0.2\n",
    "print(a)\n",
    "print(a == 0.3)"
   ]
  },
  {
   "cell_type": "markdown",
   "id": "6c86ba7c",
   "metadata": {},
   "source": [
    "3. Associativity, distributivity issues:"
   ]
  },
  {
   "cell_type": "code",
   "execution_count": 35,
   "id": "5261a2ec",
   "metadata": {},
   "outputs": [
    {
     "name": "stdout",
     "output_type": "stream",
     "text": [
      "False\n",
      "False\n"
     ]
    }
   ],
   "source": [
    "# False, but true in real math\n",
    "print(0.1 + (0.2 + 0.3) == (0.1 + 0.2) + 0.3)\n",
    "print(0.1*(0.1 + 0.3) == 0.1*0.1 + 0.1*0.3)"
   ]
  },
  {
   "cell_type": "markdown",
   "id": "ab7f3098",
   "metadata": {},
   "source": [
    "#### Task 2\n",
    "Let us illustrate it on several examples directly in console. Compare the results of $|z|$ and $\\sqrt{z \\bar{z}}$ for $z \\in \\{100e^{i\\pi/4}, 10^{200}e^{i\\pi/4}\\}$. Comment the result.\n",
    "\n",
    "This example shows that even though the result is within well-represented number, we get it wrong if there is a problem in the computation producing it. Actually, the factor $e^{i\\pi/4}$ is not important in this task.\n",
    "\n",
    "We use the complex numbers just to illustrate, that a naïve implementation of $|z|$ may be limiting.\n",
    "\n"
   ]
  },
  {
   "cell_type": "code",
   "execution_count": 36,
   "id": "bd78d3fc",
   "metadata": {},
   "outputs": [
    {
     "name": "stdout",
     "output_type": "stream",
     "text": [
      "z = (70.71067811865476+70.71067811865474j)\n",
      "|z| = 100.0\n",
      "√(z * z*) = (99.99999999999999+0j)\n",
      "Difference = 1.4210854715202004e-14\n",
      "\n",
      "z = (7.071067811865475e+199+7.071067811865474e+199j)\n",
      "|z| = 1e+200\n",
      "√(z * z*) = (inf+nanj)\n",
      "Difference = -inf\n",
      "\n"
     ]
    }
   ],
   "source": [
    "# Define complex numbers\n",
    "z1 = 100 * cmath.exp(1j * cmath.pi / 4)\n",
    "z2 = 10**200 * cmath.exp(1j * cmath.pi / 4)\n",
    "\n",
    "# Function to compare abs(z) and sqrt(z * z_conjugate)\n",
    "def compare_magnitudes(z):\n",
    "    abs_z = abs(z)\n",
    "    sqrt_zz_conj = cmath.sqrt(z * z.conjugate())\n",
    "    print(f\"z = {z}\")\n",
    "    print(f\"|z| = {abs_z}\")\n",
    "    print(f\"√(z * z*) = {sqrt_zz_conj}\")\n",
    "    print(f\"Difference = {abs_z - sqrt_zz_conj.real}\\n\")\n",
    "\n",
    "compare_magnitudes(z1)\n",
    "compare_magnitudes(z2)\n"
   ]
  },
  {
   "cell_type": "markdown",
   "id": "5241dfb6",
   "metadata": {},
   "source": [
    "We can see that the abs() implementation provided from the standard library of Python is giving correct values, while the naive implementation has some issues.\n",
    "\n",
    "We can also see that difference for naive method for moderate values is extremely small (1.4e-14), but for large numbers its just non-computable, resulting in infinity.\n",
    "\n",
    "#### Task 3\n",
    "The fail of associativity may be seen in sums. Compute\n",
    "\n",
    "$$\n",
    "S_N = \\sum_{i=0}^{N} q^i\n",
    "$$\n",
    "\n",
    "in the ascending and descending orders for  \n",
    "1) $q = 0.9$ and $N = 400$  \n",
    "2) $q = 1 - 10^{-6}$ and $N = 10^4$.  \n",
    "\n",
    "Compare the results and errors with the exact result\n",
    "\n",
    "$$\n",
    "S_N = \\frac{1 - q^{N+1}}{1 - q}.\n",
    "$$\n"
   ]
  },
  {
   "cell_type": "code",
   "execution_count": 37,
   "id": "f9fb79c3",
   "metadata": {},
   "outputs": [
    {
     "name": "stdout",
     "output_type": "stream",
     "text": [
      "q = 0.9, N = 400\n",
      "Ascending sum:  10.000000000000002\n",
      "Descending sum: 10.000000000000002\n",
      "Exact result:   10.000000000000002\n",
      "Error (asc):    0.0\n",
      "Error (desc):   0.0\n",
      "\n",
      "q = 0.999999, N = 10000\n",
      "Ascending sum:  9951.161250911773\n",
      "Descending sum: 9951.161250911773\n",
      "Exact result:   9951.16125091173\n",
      "Error (asc):    4.3655745685100555e-11\n",
      "Error (desc):   4.3655745685100555e-11\n",
      "\n"
     ]
    }
   ],
   "source": [
    "def compute_sum(q, N):\n",
    "    # Ascending order\n",
    "    asc_sum = sum(q**i for i in range(N + 1))\n",
    "\n",
    "    # Descending order\n",
    "    desc_sum = sum(q**i for i in reversed(range(N + 1)))\n",
    "\n",
    "    # Exact result using geometric series formula\n",
    "    exact = (1 - q**(N + 1)) / (1 - q)\n",
    "\n",
    "    # Report\n",
    "    print(f\"q = {q}, N = {N}\")\n",
    "    print(f\"Ascending sum:  {asc_sum}\")\n",
    "    print(f\"Descending sum: {desc_sum}\")\n",
    "    print(f\"Exact result:   {exact}\")\n",
    "    print(f\"Error (asc):    {abs(asc_sum - exact)}\")\n",
    "    print(f\"Error (desc):   {abs(desc_sum - exact)}\\n\")\n",
    "\n",
    "# Case 1: q = 0.9, N = 400\n",
    "compute_sum(q=0.9, N=400)\n",
    "\n",
    "# Case 2: q = 1 - 1e-6, N = 10_000\n",
    "compute_sum(q=1 - 1e-6, N=10_000)\n"
   ]
  },
  {
   "cell_type": "markdown",
   "id": "2229ca43",
   "metadata": {},
   "source": [
    "Although there is some error, the sums were computed correctly. \n",
    "The example above works in Matlab, as it is using different number representation, but Python managed to do the task correctly, with ascending and descending sums being equal.\n",
    "\n",
    "But python still has problems with associativity that can be observed on different examples, like here:"
   ]
  },
  {
   "cell_type": "code",
   "execution_count": 38,
   "id": "c5f6d906",
   "metadata": {},
   "outputs": [
    {
     "name": "stdout",
     "output_type": "stream",
     "text": [
      "False\n"
     ]
    }
   ],
   "source": [
    "print(0.1 + (0.2 + 0.3) == (0.1 + 0.2) + 0.3)\n"
   ]
  },
  {
   "cell_type": "markdown",
   "id": "71552198",
   "metadata": {},
   "source": [
    "#### Additional task\n",
    "Even we’ve seen a difference in the previous point, the relative error’s been still small. Let us\n",
    "investigate an example, where errors grow fast, proposed by prof. Edita Pelantov´a: https://people.fjfi.cvut.cz/pelanedi/SSM/prednaska.pdf; implement the algorithm from the\n",
    "slide 7 and compare it with the direct implementation"
   ]
  },
  {
   "cell_type": "markdown",
   "id": "9106e42e",
   "metadata": {},
   "source": [
    "![image.png](image.png)"
   ]
  },
  {
   "cell_type": "code",
   "execution_count": 39,
   "id": "3fa995ad",
   "metadata": {},
   "outputs": [
    {
     "data": {
      "image/png": "[encoded data removed]",
      "text/plain": [
       "<Figure size 640x480 with 1 Axes>"
      ]
     },
     "metadata": {},
     "output_type": "display_data"
    }
   ],
   "source": [
    "# Number of terms to calculate\n",
    "n = 25\n",
    "\n",
    "# Direct implementation of e\n",
    "e_approx = sum(1 / math.factorial(k) for k in range(n + 1))\n",
    "e_minus_1 = e_approx - 1\n",
    "\n",
    "# Nesetril's iterative calculation\n",
    "p = [0] * (n + 1)\n",
    "p[1] = e_minus_1\n",
    "\n",
    "for i in range(2, n + 1):\n",
    "    p[i] = i * (p[i - 1] - 1)\n",
    "\n",
    "# Compare with direct method\n",
    "direct_method = [sum(1 / math.factorial(k) for k in range(1, i + 2)) * math.factorial(i) - math.factorial(i) for i in range(1, n + 1)]\n",
    "\n",
    "# Plot the values\n",
    "indices = list(range(1, n + 1))\n",
    "plt.plot(indices, p[1:], label=\"Nesetril's method\")\n",
    "plt.plot(indices, direct_method, '--', label=\"Direct method\")\n",
    "plt.xlabel('n')\n",
    "plt.ylabel('p_n')\n",
    "plt.title(\"Comparison of Nesetril's and Direct Computation\")\n",
    "plt.legend()\n",
    "plt.grid(True)\n",
    "plt.tight_layout()\n",
    "plt.show()\n"
   ]
  },
  {
   "cell_type": "markdown",
   "id": "08a2da4d",
   "metadata": {},
   "source": [
    "The error grows exponentially in direct method due to computing large factorials and small fractions."
   ]
  }
 ],
 "metadata": {
  "kernelspec": {
   "display_name": "venv",
   "language": "python",
   "name": "python3"
  },
  "language_info": {
   "codemirror_mode": {
    "name": "ipython",
    "version": 3
   },
   "file_extension": ".py",
   "mimetype": "text/x-python",
   "name": "python",
   "nbconvert_exporter": "python",
   "pygments_lexer": "ipython3",
   "version": "3.12.3"
  }
 },
 "nbformat": 4,
 "nbformat_minor": 5
}
